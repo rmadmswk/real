{
 "cells": [
  {
   "cell_type": "code",
   "execution_count": null,
   "id": "e36f068f",
   "metadata": {},
   "outputs": [],
   "source": [
    "list.sort\n",
    "\n",
    "list 데이터 타입에서만 사용 가능\n",
    "sort시 원본값 변경, return값은 None\n",
    "내림차순 = list.sort(reverse = True)"
   ]
  },
  {
   "cell_type": "code",
   "execution_count": null,
   "id": "380b4549",
   "metadata": {},
   "outputs": [],
   "source": [
    "sorted(list)\n",
    "\n",
    "sort시 원본값 변경x\n",
    "return 값은 순서형변수가 sort된 신규 list\n",
    "내림차순 = sorted(list, reverse = True)"
   ]
  },
  {
   "cell_type": "code",
   "execution_count": null,
   "id": "6cd93c6c",
   "metadata": {},
   "outputs": [],
   "source": [
    "결론:\n",
    "원본값 변경해도 상관없으면 sort를 사용하면 되고\n",
    "원본값 변경이 필요하면 sorted를 사용하면 된다."
   ]
  },
  {
   "cell_type": "code",
   "execution_count": null,
   "id": "2aab04a9",
   "metadata": {},
   "outputs": [],
   "source": []
  },
  {
   "cell_type": "code",
   "execution_count": null,
   "id": "a30a0a8f",
   "metadata": {},
   "outputs": [],
   "source": []
  },
  {
   "cell_type": "code",
   "execution_count": null,
   "id": "3175b950",
   "metadata": {},
   "outputs": [],
   "source": []
  },
  {
   "cell_type": "code",
   "execution_count": null,
   "id": "6b6b69ed",
   "metadata": {},
   "outputs": [],
   "source": []
  },
  {
   "cell_type": "code",
   "execution_count": null,
   "id": "7e5966e5",
   "metadata": {},
   "outputs": [],
   "source": []
  }
 ],
 "metadata": {
  "kernelspec": {
   "display_name": "Python 3 (ipykernel)",
   "language": "python",
   "name": "python3"
  },
  "language_info": {
   "codemirror_mode": {
    "name": "ipython",
    "version": 3
   },
   "file_extension": ".py",
   "mimetype": "text/x-python",
   "name": "python",
   "nbconvert_exporter": "python",
   "pygments_lexer": "ipython3",
   "version": "3.8.12"
  }
 },
 "nbformat": 4,
 "nbformat_minor": 5
}
