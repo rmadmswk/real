{
  "nbformat": 4,
  "nbformat_minor": 0,
  "metadata": {
    "colab": {
      "name": "Day3.ipynb",
      "provenance": [],
      "collapsed_sections": [],
      "mount_file_id": "1zbULUra58PvowpN50o71l6XlAKUH3q_c",
      "authorship_tag": "ABX9TyPIj1D0aEG0klbbYqdyQhrc",
      "include_colab_link": true
    },
    "kernelspec": {
      "name": "python3",
      "display_name": "Python 3"
    },
    "language_info": {
      "name": "python"
    }
  },
  "cells": [
    {
      "cell_type": "markdown",
      "metadata": {
        "id": "view-in-github",
        "colab_type": "text"
      },
      "source": [
        "<a href=\"https://colab.research.google.com/github/rmadmswk/rmadmswk/blob/main/Day3.ipynb\" target=\"_parent\"><img src=\"https://colab.research.google.com/assets/colab-badge.svg\" alt=\"Open In Colab\"/></a>"
      ]
    },
    {
      "cell_type": "code",
      "source": [
        "import pandas as pd\n",
        "import random\n",
        "import os\n",
        "import numpy as np\n",
        "\n",
        "from sklearn.linear_model import LinearRegression\n",
        "from sklearn.multioutput import MultiOutputRegressor"
      ],
      "metadata": {
        "id": "n3TUbA8i5UcN"
      },
      "execution_count": 1,
      "outputs": []
    },
    {
      "cell_type": "code",
      "source": [
        "def seed_everything(seed):\n",
        "    random.seed(seed)\n",
        "    os.environ['PYTHONHASHSEED'] = str(seed)\n",
        "    np.random.seed(seed)\n",
        "seed_everything(42) # Seed 고정"
      ],
      "metadata": {
        "id": "7WZIZFsI5Uac"
      },
      "execution_count": 7,
      "outputs": []
    },
    {
      "cell_type": "code",
      "source": [
        "train_df = pd.read_csv('/content/drive/MyDrive/open/data/train.csv')"
      ],
      "metadata": {
        "id": "W4PTW0-R5WpQ"
      },
      "execution_count": 8,
      "outputs": []
    },
    {
      "cell_type": "code",
      "source": [
        "X_train = train_df.filter(regex='X') # Input : X Featrue\n",
        "y_train = train_df.filter(regex='Y') # Output : Y Feature"
      ],
      "metadata": {
        "id": "mUeqlKS45WnZ"
      },
      "execution_count": 9,
      "outputs": []
    },
    {
      "cell_type": "code",
      "source": [
        "X_train"
      ],
      "metadata": {
        "colab": {
          "base_uri": "https://localhost:8080/",
          "height": 488
        },
        "id": "nR-rZ696KQt9",
        "outputId": "dd864e13-3179-4e1a-a318-0d952b673abd"
      },
      "execution_count": 13,
      "outputs": [
        {
          "output_type": "execute_result",
          "data": {
            "text/plain": [
              "         X_01     X_02   X_03  X_04     X_05    X_06   X_07    X_08    X_09  \\\n",
              "0      70.544  103.320  67.47     1  101.892  74.983  29.45   62.38  245.71   \n",
              "1      69.524  103.321  65.17     1  101.944  72.943  28.73   61.23  233.61   \n",
              "2      72.583  103.320  64.07     1  103.153  72.943  28.81  105.77  272.20   \n",
              "3      71.563  103.320  67.57     1  101.971  77.022  28.92  115.21  255.36   \n",
              "4      69.524  103.320  63.57     1  101.981  70.904  29.68  103.38  241.46   \n",
              "...       ...      ...    ...   ...      ...     ...    ...     ...     ...   \n",
              "39602  66.465  103.320  62.27     1  103.150  66.825  30.20   77.83  298.05   \n",
              "39603  66.465  103.321  62.77     1  102.021  66.825  29.21  102.25  270.67   \n",
              "39604  68.504  103.320  64.67     1  103.144  68.864  29.96  102.61  198.07   \n",
              "39605  66.465  103.320  63.67     1  102.025  67.845  30.30  112.60  275.52   \n",
              "39606  66.465  103.320  65.67     1  102.004  69.884  30.16  112.90  276.06   \n",
              "\n",
              "       X_10  ...  X_47  X_48      X_49        X_50        X_51        X_52  \\\n",
              "0       0.0  ...     1     1   9706.03  137.043591  135.359219  147.837968   \n",
              "1       0.0  ...     1     1  10423.43  133.736691  135.979817  149.924692   \n",
              "2       0.0  ...     1     1  10948.53  132.805112  131.055355  146.814592   \n",
              "3       0.0  ...     1     1  15007.03  134.138760  133.239422  139.720132   \n",
              "4       0.0  ...     1     1  11051.03  142.728970  136.620022  134.853555   \n",
              "...     ...  ...   ...   ...       ...         ...         ...         ...   \n",
              "39602   0.0  ...     1     1  60630.73  129.965741  130.807148  133.481737   \n",
              "39603   0.0  ...     1     1  60763.43  127.633885  120.158764  142.667802   \n",
              "39604   0.0  ...     1     1   8813.33  132.501286  136.893025  134.419328   \n",
              "39605   0.0  ...     1     1  62222.33  128.189679  121.495930  141.288011   \n",
              "39606   0.0  ...     1     1  62172.23  135.096272  122.988476  142.019357   \n",
              "\n",
              "             X_53        X_54        X_55        X_56  \n",
              "0      134.313475  125.605427  136.721425  125.028256  \n",
              "1      123.630583  127.893337  143.322659  124.877308  \n",
              "2      128.939070  127.012195  140.395688  122.238232  \n",
              "3      132.260824  130.723186  147.624829  134.875225  \n",
              "4      134.760252  125.647793  139.331105  123.272762  \n",
              "...           ...         ...         ...         ...  \n",
              "39602  125.273130  121.780933  133.780110  129.029812  \n",
              "39603  122.465490  122.987209  143.090741  122.811413  \n",
              "39604  129.115431  130.920147  140.489232  119.166699  \n",
              "39605  130.141676  125.518825  136.603634  124.525929  \n",
              "39606  123.752157  130.648365  139.695370  136.714504  \n",
              "\n",
              "[39607 rows x 56 columns]"
            ],
            "text/html": [
              "\n",
              "  <div id=\"df-6cc3b38e-9c21-4f3b-ab5f-9589f4c421c9\">\n",
              "    <div class=\"colab-df-container\">\n",
              "      <div>\n",
              "<style scoped>\n",
              "    .dataframe tbody tr th:only-of-type {\n",
              "        vertical-align: middle;\n",
              "    }\n",
              "\n",
              "    .dataframe tbody tr th {\n",
              "        vertical-align: top;\n",
              "    }\n",
              "\n",
              "    .dataframe thead th {\n",
              "        text-align: right;\n",
              "    }\n",
              "</style>\n",
              "<table border=\"1\" class=\"dataframe\">\n",
              "  <thead>\n",
              "    <tr style=\"text-align: right;\">\n",
              "      <th></th>\n",
              "      <th>X_01</th>\n",
              "      <th>X_02</th>\n",
              "      <th>X_03</th>\n",
              "      <th>X_04</th>\n",
              "      <th>X_05</th>\n",
              "      <th>X_06</th>\n",
              "      <th>X_07</th>\n",
              "      <th>X_08</th>\n",
              "      <th>X_09</th>\n",
              "      <th>X_10</th>\n",
              "      <th>...</th>\n",
              "      <th>X_47</th>\n",
              "      <th>X_48</th>\n",
              "      <th>X_49</th>\n",
              "      <th>X_50</th>\n",
              "      <th>X_51</th>\n",
              "      <th>X_52</th>\n",
              "      <th>X_53</th>\n",
              "      <th>X_54</th>\n",
              "      <th>X_55</th>\n",
              "      <th>X_56</th>\n",
              "    </tr>\n",
              "  </thead>\n",
              "  <tbody>\n",
              "    <tr>\n",
              "      <th>0</th>\n",
              "      <td>70.544</td>\n",
              "      <td>103.320</td>\n",
              "      <td>67.47</td>\n",
              "      <td>1</td>\n",
              "      <td>101.892</td>\n",
              "      <td>74.983</td>\n",
              "      <td>29.45</td>\n",
              "      <td>62.38</td>\n",
              "      <td>245.71</td>\n",
              "      <td>0.0</td>\n",
              "      <td>...</td>\n",
              "      <td>1</td>\n",
              "      <td>1</td>\n",
              "      <td>9706.03</td>\n",
              "      <td>137.043591</td>\n",
              "      <td>135.359219</td>\n",
              "      <td>147.837968</td>\n",
              "      <td>134.313475</td>\n",
              "      <td>125.605427</td>\n",
              "      <td>136.721425</td>\n",
              "      <td>125.028256</td>\n",
              "    </tr>\n",
              "    <tr>\n",
              "      <th>1</th>\n",
              "      <td>69.524</td>\n",
              "      <td>103.321</td>\n",
              "      <td>65.17</td>\n",
              "      <td>1</td>\n",
              "      <td>101.944</td>\n",
              "      <td>72.943</td>\n",
              "      <td>28.73</td>\n",
              "      <td>61.23</td>\n",
              "      <td>233.61</td>\n",
              "      <td>0.0</td>\n",
              "      <td>...</td>\n",
              "      <td>1</td>\n",
              "      <td>1</td>\n",
              "      <td>10423.43</td>\n",
              "      <td>133.736691</td>\n",
              "      <td>135.979817</td>\n",
              "      <td>149.924692</td>\n",
              "      <td>123.630583</td>\n",
              "      <td>127.893337</td>\n",
              "      <td>143.322659</td>\n",
              "      <td>124.877308</td>\n",
              "    </tr>\n",
              "    <tr>\n",
              "      <th>2</th>\n",
              "      <td>72.583</td>\n",
              "      <td>103.320</td>\n",
              "      <td>64.07</td>\n",
              "      <td>1</td>\n",
              "      <td>103.153</td>\n",
              "      <td>72.943</td>\n",
              "      <td>28.81</td>\n",
              "      <td>105.77</td>\n",
              "      <td>272.20</td>\n",
              "      <td>0.0</td>\n",
              "      <td>...</td>\n",
              "      <td>1</td>\n",
              "      <td>1</td>\n",
              "      <td>10948.53</td>\n",
              "      <td>132.805112</td>\n",
              "      <td>131.055355</td>\n",
              "      <td>146.814592</td>\n",
              "      <td>128.939070</td>\n",
              "      <td>127.012195</td>\n",
              "      <td>140.395688</td>\n",
              "      <td>122.238232</td>\n",
              "    </tr>\n",
              "    <tr>\n",
              "      <th>3</th>\n",
              "      <td>71.563</td>\n",
              "      <td>103.320</td>\n",
              "      <td>67.57</td>\n",
              "      <td>1</td>\n",
              "      <td>101.971</td>\n",
              "      <td>77.022</td>\n",
              "      <td>28.92</td>\n",
              "      <td>115.21</td>\n",
              "      <td>255.36</td>\n",
              "      <td>0.0</td>\n",
              "      <td>...</td>\n",
              "      <td>1</td>\n",
              "      <td>1</td>\n",
              "      <td>15007.03</td>\n",
              "      <td>134.138760</td>\n",
              "      <td>133.239422</td>\n",
              "      <td>139.720132</td>\n",
              "      <td>132.260824</td>\n",
              "      <td>130.723186</td>\n",
              "      <td>147.624829</td>\n",
              "      <td>134.875225</td>\n",
              "    </tr>\n",
              "    <tr>\n",
              "      <th>4</th>\n",
              "      <td>69.524</td>\n",
              "      <td>103.320</td>\n",
              "      <td>63.57</td>\n",
              "      <td>1</td>\n",
              "      <td>101.981</td>\n",
              "      <td>70.904</td>\n",
              "      <td>29.68</td>\n",
              "      <td>103.38</td>\n",
              "      <td>241.46</td>\n",
              "      <td>0.0</td>\n",
              "      <td>...</td>\n",
              "      <td>1</td>\n",
              "      <td>1</td>\n",
              "      <td>11051.03</td>\n",
              "      <td>142.728970</td>\n",
              "      <td>136.620022</td>\n",
              "      <td>134.853555</td>\n",
              "      <td>134.760252</td>\n",
              "      <td>125.647793</td>\n",
              "      <td>139.331105</td>\n",
              "      <td>123.272762</td>\n",
              "    </tr>\n",
              "    <tr>\n",
              "      <th>...</th>\n",
              "      <td>...</td>\n",
              "      <td>...</td>\n",
              "      <td>...</td>\n",
              "      <td>...</td>\n",
              "      <td>...</td>\n",
              "      <td>...</td>\n",
              "      <td>...</td>\n",
              "      <td>...</td>\n",
              "      <td>...</td>\n",
              "      <td>...</td>\n",
              "      <td>...</td>\n",
              "      <td>...</td>\n",
              "      <td>...</td>\n",
              "      <td>...</td>\n",
              "      <td>...</td>\n",
              "      <td>...</td>\n",
              "      <td>...</td>\n",
              "      <td>...</td>\n",
              "      <td>...</td>\n",
              "      <td>...</td>\n",
              "      <td>...</td>\n",
              "    </tr>\n",
              "    <tr>\n",
              "      <th>39602</th>\n",
              "      <td>66.465</td>\n",
              "      <td>103.320</td>\n",
              "      <td>62.27</td>\n",
              "      <td>1</td>\n",
              "      <td>103.150</td>\n",
              "      <td>66.825</td>\n",
              "      <td>30.20</td>\n",
              "      <td>77.83</td>\n",
              "      <td>298.05</td>\n",
              "      <td>0.0</td>\n",
              "      <td>...</td>\n",
              "      <td>1</td>\n",
              "      <td>1</td>\n",
              "      <td>60630.73</td>\n",
              "      <td>129.965741</td>\n",
              "      <td>130.807148</td>\n",
              "      <td>133.481737</td>\n",
              "      <td>125.273130</td>\n",
              "      <td>121.780933</td>\n",
              "      <td>133.780110</td>\n",
              "      <td>129.029812</td>\n",
              "    </tr>\n",
              "    <tr>\n",
              "      <th>39603</th>\n",
              "      <td>66.465</td>\n",
              "      <td>103.321</td>\n",
              "      <td>62.77</td>\n",
              "      <td>1</td>\n",
              "      <td>102.021</td>\n",
              "      <td>66.825</td>\n",
              "      <td>29.21</td>\n",
              "      <td>102.25</td>\n",
              "      <td>270.67</td>\n",
              "      <td>0.0</td>\n",
              "      <td>...</td>\n",
              "      <td>1</td>\n",
              "      <td>1</td>\n",
              "      <td>60763.43</td>\n",
              "      <td>127.633885</td>\n",
              "      <td>120.158764</td>\n",
              "      <td>142.667802</td>\n",
              "      <td>122.465490</td>\n",
              "      <td>122.987209</td>\n",
              "      <td>143.090741</td>\n",
              "      <td>122.811413</td>\n",
              "    </tr>\n",
              "    <tr>\n",
              "      <th>39604</th>\n",
              "      <td>68.504</td>\n",
              "      <td>103.320</td>\n",
              "      <td>64.67</td>\n",
              "      <td>1</td>\n",
              "      <td>103.144</td>\n",
              "      <td>68.864</td>\n",
              "      <td>29.96</td>\n",
              "      <td>102.61</td>\n",
              "      <td>198.07</td>\n",
              "      <td>0.0</td>\n",
              "      <td>...</td>\n",
              "      <td>1</td>\n",
              "      <td>1</td>\n",
              "      <td>8813.33</td>\n",
              "      <td>132.501286</td>\n",
              "      <td>136.893025</td>\n",
              "      <td>134.419328</td>\n",
              "      <td>129.115431</td>\n",
              "      <td>130.920147</td>\n",
              "      <td>140.489232</td>\n",
              "      <td>119.166699</td>\n",
              "    </tr>\n",
              "    <tr>\n",
              "      <th>39605</th>\n",
              "      <td>66.465</td>\n",
              "      <td>103.320</td>\n",
              "      <td>63.67</td>\n",
              "      <td>1</td>\n",
              "      <td>102.025</td>\n",
              "      <td>67.845</td>\n",
              "      <td>30.30</td>\n",
              "      <td>112.60</td>\n",
              "      <td>275.52</td>\n",
              "      <td>0.0</td>\n",
              "      <td>...</td>\n",
              "      <td>1</td>\n",
              "      <td>1</td>\n",
              "      <td>62222.33</td>\n",
              "      <td>128.189679</td>\n",
              "      <td>121.495930</td>\n",
              "      <td>141.288011</td>\n",
              "      <td>130.141676</td>\n",
              "      <td>125.518825</td>\n",
              "      <td>136.603634</td>\n",
              "      <td>124.525929</td>\n",
              "    </tr>\n",
              "    <tr>\n",
              "      <th>39606</th>\n",
              "      <td>66.465</td>\n",
              "      <td>103.320</td>\n",
              "      <td>65.67</td>\n",
              "      <td>1</td>\n",
              "      <td>102.004</td>\n",
              "      <td>69.884</td>\n",
              "      <td>30.16</td>\n",
              "      <td>112.90</td>\n",
              "      <td>276.06</td>\n",
              "      <td>0.0</td>\n",
              "      <td>...</td>\n",
              "      <td>1</td>\n",
              "      <td>1</td>\n",
              "      <td>62172.23</td>\n",
              "      <td>135.096272</td>\n",
              "      <td>122.988476</td>\n",
              "      <td>142.019357</td>\n",
              "      <td>123.752157</td>\n",
              "      <td>130.648365</td>\n",
              "      <td>139.695370</td>\n",
              "      <td>136.714504</td>\n",
              "    </tr>\n",
              "  </tbody>\n",
              "</table>\n",
              "<p>39607 rows × 56 columns</p>\n",
              "</div>\n",
              "      <button class=\"colab-df-convert\" onclick=\"convertToInteractive('df-6cc3b38e-9c21-4f3b-ab5f-9589f4c421c9')\"\n",
              "              title=\"Convert this dataframe to an interactive table.\"\n",
              "              style=\"display:none;\">\n",
              "        \n",
              "  <svg xmlns=\"http://www.w3.org/2000/svg\" height=\"24px\"viewBox=\"0 0 24 24\"\n",
              "       width=\"24px\">\n",
              "    <path d=\"M0 0h24v24H0V0z\" fill=\"none\"/>\n",
              "    <path d=\"M18.56 5.44l.94 2.06.94-2.06 2.06-.94-2.06-.94-.94-2.06-.94 2.06-2.06.94zm-11 1L8.5 8.5l.94-2.06 2.06-.94-2.06-.94L8.5 2.5l-.94 2.06-2.06.94zm10 10l.94 2.06.94-2.06 2.06-.94-2.06-.94-.94-2.06-.94 2.06-2.06.94z\"/><path d=\"M17.41 7.96l-1.37-1.37c-.4-.4-.92-.59-1.43-.59-.52 0-1.04.2-1.43.59L10.3 9.45l-7.72 7.72c-.78.78-.78 2.05 0 2.83L4 21.41c.39.39.9.59 1.41.59.51 0 1.02-.2 1.41-.59l7.78-7.78 2.81-2.81c.8-.78.8-2.07 0-2.86zM5.41 20L4 18.59l7.72-7.72 1.47 1.35L5.41 20z\"/>\n",
              "  </svg>\n",
              "      </button>\n",
              "      \n",
              "  <style>\n",
              "    .colab-df-container {\n",
              "      display:flex;\n",
              "      flex-wrap:wrap;\n",
              "      gap: 12px;\n",
              "    }\n",
              "\n",
              "    .colab-df-convert {\n",
              "      background-color: #E8F0FE;\n",
              "      border: none;\n",
              "      border-radius: 50%;\n",
              "      cursor: pointer;\n",
              "      display: none;\n",
              "      fill: #1967D2;\n",
              "      height: 32px;\n",
              "      padding: 0 0 0 0;\n",
              "      width: 32px;\n",
              "    }\n",
              "\n",
              "    .colab-df-convert:hover {\n",
              "      background-color: #E2EBFA;\n",
              "      box-shadow: 0px 1px 2px rgba(60, 64, 67, 0.3), 0px 1px 3px 1px rgba(60, 64, 67, 0.15);\n",
              "      fill: #174EA6;\n",
              "    }\n",
              "\n",
              "    [theme=dark] .colab-df-convert {\n",
              "      background-color: #3B4455;\n",
              "      fill: #D2E3FC;\n",
              "    }\n",
              "\n",
              "    [theme=dark] .colab-df-convert:hover {\n",
              "      background-color: #434B5C;\n",
              "      box-shadow: 0px 1px 3px 1px rgba(0, 0, 0, 0.15);\n",
              "      filter: drop-shadow(0px 1px 2px rgba(0, 0, 0, 0.3));\n",
              "      fill: #FFFFFF;\n",
              "    }\n",
              "  </style>\n",
              "\n",
              "      <script>\n",
              "        const buttonEl =\n",
              "          document.querySelector('#df-6cc3b38e-9c21-4f3b-ab5f-9589f4c421c9 button.colab-df-convert');\n",
              "        buttonEl.style.display =\n",
              "          google.colab.kernel.accessAllowed ? 'block' : 'none';\n",
              "\n",
              "        async function convertToInteractive(key) {\n",
              "          const element = document.querySelector('#df-6cc3b38e-9c21-4f3b-ab5f-9589f4c421c9');\n",
              "          const dataTable =\n",
              "            await google.colab.kernel.invokeFunction('convertToInteractive',\n",
              "                                                     [key], {});\n",
              "          if (!dataTable) return;\n",
              "\n",
              "          const docLinkHtml = 'Like what you see? Visit the ' +\n",
              "            '<a target=\"_blank\" href=https://colab.research.google.com/notebooks/data_table.ipynb>data table notebook</a>'\n",
              "            + ' to learn more about interactive tables.';\n",
              "          element.innerHTML = '';\n",
              "          dataTable['output_type'] = 'display_data';\n",
              "          await google.colab.output.renderOutput(dataTable, element);\n",
              "          const docLink = document.createElement('div');\n",
              "          docLink.innerHTML = docLinkHtml;\n",
              "          element.appendChild(docLink);\n",
              "        }\n",
              "      </script>\n",
              "    </div>\n",
              "  </div>\n",
              "  "
            ]
          },
          "metadata": {},
          "execution_count": 13
        }
      ]
    },
    {
      "cell_type": "code",
      "source": [
        "train_01 = y_train[['Y_01']]\n",
        "train_01"
      ],
      "metadata": {
        "colab": {
          "base_uri": "https://localhost:8080/",
          "height": 424
        },
        "id": "b66qx4smKMcI",
        "outputId": "c9a2432a-5765-43e4-d092-3c1b11e21045"
      },
      "execution_count": 14,
      "outputs": [
        {
          "output_type": "execute_result",
          "data": {
            "text/plain": [
              "        Y_01\n",
              "0      2.056\n",
              "1      1.446\n",
              "2      1.251\n",
              "3      1.464\n",
              "4      0.983\n",
              "...      ...\n",
              "39602  1.382\n",
              "39603  1.482\n",
              "39604  1.117\n",
              "39605  0.895\n",
              "39606  1.147\n",
              "\n",
              "[39607 rows x 1 columns]"
            ],
            "text/html": [
              "\n",
              "  <div id=\"df-eb2ad222-362f-47be-b396-4b4c7d1957ea\">\n",
              "    <div class=\"colab-df-container\">\n",
              "      <div>\n",
              "<style scoped>\n",
              "    .dataframe tbody tr th:only-of-type {\n",
              "        vertical-align: middle;\n",
              "    }\n",
              "\n",
              "    .dataframe tbody tr th {\n",
              "        vertical-align: top;\n",
              "    }\n",
              "\n",
              "    .dataframe thead th {\n",
              "        text-align: right;\n",
              "    }\n",
              "</style>\n",
              "<table border=\"1\" class=\"dataframe\">\n",
              "  <thead>\n",
              "    <tr style=\"text-align: right;\">\n",
              "      <th></th>\n",
              "      <th>Y_01</th>\n",
              "    </tr>\n",
              "  </thead>\n",
              "  <tbody>\n",
              "    <tr>\n",
              "      <th>0</th>\n",
              "      <td>2.056</td>\n",
              "    </tr>\n",
              "    <tr>\n",
              "      <th>1</th>\n",
              "      <td>1.446</td>\n",
              "    </tr>\n",
              "    <tr>\n",
              "      <th>2</th>\n",
              "      <td>1.251</td>\n",
              "    </tr>\n",
              "    <tr>\n",
              "      <th>3</th>\n",
              "      <td>1.464</td>\n",
              "    </tr>\n",
              "    <tr>\n",
              "      <th>4</th>\n",
              "      <td>0.983</td>\n",
              "    </tr>\n",
              "    <tr>\n",
              "      <th>...</th>\n",
              "      <td>...</td>\n",
              "    </tr>\n",
              "    <tr>\n",
              "      <th>39602</th>\n",
              "      <td>1.382</td>\n",
              "    </tr>\n",
              "    <tr>\n",
              "      <th>39603</th>\n",
              "      <td>1.482</td>\n",
              "    </tr>\n",
              "    <tr>\n",
              "      <th>39604</th>\n",
              "      <td>1.117</td>\n",
              "    </tr>\n",
              "    <tr>\n",
              "      <th>39605</th>\n",
              "      <td>0.895</td>\n",
              "    </tr>\n",
              "    <tr>\n",
              "      <th>39606</th>\n",
              "      <td>1.147</td>\n",
              "    </tr>\n",
              "  </tbody>\n",
              "</table>\n",
              "<p>39607 rows × 1 columns</p>\n",
              "</div>\n",
              "      <button class=\"colab-df-convert\" onclick=\"convertToInteractive('df-eb2ad222-362f-47be-b396-4b4c7d1957ea')\"\n",
              "              title=\"Convert this dataframe to an interactive table.\"\n",
              "              style=\"display:none;\">\n",
              "        \n",
              "  <svg xmlns=\"http://www.w3.org/2000/svg\" height=\"24px\"viewBox=\"0 0 24 24\"\n",
              "       width=\"24px\">\n",
              "    <path d=\"M0 0h24v24H0V0z\" fill=\"none\"/>\n",
              "    <path d=\"M18.56 5.44l.94 2.06.94-2.06 2.06-.94-2.06-.94-.94-2.06-.94 2.06-2.06.94zm-11 1L8.5 8.5l.94-2.06 2.06-.94-2.06-.94L8.5 2.5l-.94 2.06-2.06.94zm10 10l.94 2.06.94-2.06 2.06-.94-2.06-.94-.94-2.06-.94 2.06-2.06.94z\"/><path d=\"M17.41 7.96l-1.37-1.37c-.4-.4-.92-.59-1.43-.59-.52 0-1.04.2-1.43.59L10.3 9.45l-7.72 7.72c-.78.78-.78 2.05 0 2.83L4 21.41c.39.39.9.59 1.41.59.51 0 1.02-.2 1.41-.59l7.78-7.78 2.81-2.81c.8-.78.8-2.07 0-2.86zM5.41 20L4 18.59l7.72-7.72 1.47 1.35L5.41 20z\"/>\n",
              "  </svg>\n",
              "      </button>\n",
              "      \n",
              "  <style>\n",
              "    .colab-df-container {\n",
              "      display:flex;\n",
              "      flex-wrap:wrap;\n",
              "      gap: 12px;\n",
              "    }\n",
              "\n",
              "    .colab-df-convert {\n",
              "      background-color: #E8F0FE;\n",
              "      border: none;\n",
              "      border-radius: 50%;\n",
              "      cursor: pointer;\n",
              "      display: none;\n",
              "      fill: #1967D2;\n",
              "      height: 32px;\n",
              "      padding: 0 0 0 0;\n",
              "      width: 32px;\n",
              "    }\n",
              "\n",
              "    .colab-df-convert:hover {\n",
              "      background-color: #E2EBFA;\n",
              "      box-shadow: 0px 1px 2px rgba(60, 64, 67, 0.3), 0px 1px 3px 1px rgba(60, 64, 67, 0.15);\n",
              "      fill: #174EA6;\n",
              "    }\n",
              "\n",
              "    [theme=dark] .colab-df-convert {\n",
              "      background-color: #3B4455;\n",
              "      fill: #D2E3FC;\n",
              "    }\n",
              "\n",
              "    [theme=dark] .colab-df-convert:hover {\n",
              "      background-color: #434B5C;\n",
              "      box-shadow: 0px 1px 3px 1px rgba(0, 0, 0, 0.15);\n",
              "      filter: drop-shadow(0px 1px 2px rgba(0, 0, 0, 0.3));\n",
              "      fill: #FFFFFF;\n",
              "    }\n",
              "  </style>\n",
              "\n",
              "      <script>\n",
              "        const buttonEl =\n",
              "          document.querySelector('#df-eb2ad222-362f-47be-b396-4b4c7d1957ea button.colab-df-convert');\n",
              "        buttonEl.style.display =\n",
              "          google.colab.kernel.accessAllowed ? 'block' : 'none';\n",
              "\n",
              "        async function convertToInteractive(key) {\n",
              "          const element = document.querySelector('#df-eb2ad222-362f-47be-b396-4b4c7d1957ea');\n",
              "          const dataTable =\n",
              "            await google.colab.kernel.invokeFunction('convertToInteractive',\n",
              "                                                     [key], {});\n",
              "          if (!dataTable) return;\n",
              "\n",
              "          const docLinkHtml = 'Like what you see? Visit the ' +\n",
              "            '<a target=\"_blank\" href=https://colab.research.google.com/notebooks/data_table.ipynb>data table notebook</a>'\n",
              "            + ' to learn more about interactive tables.';\n",
              "          element.innerHTML = '';\n",
              "          dataTable['output_type'] = 'display_data';\n",
              "          await google.colab.output.renderOutput(dataTable, element);\n",
              "          const docLink = document.createElement('div');\n",
              "          docLink.innerHTML = docLinkHtml;\n",
              "          element.appendChild(docLink);\n",
              "        }\n",
              "      </script>\n",
              "    </div>\n",
              "  </div>\n",
              "  "
            ]
          },
          "metadata": {},
          "execution_count": 14
        }
      ]
    },
    {
      "cell_type": "code",
      "source": [
        "train_02 = y_train[['Y_02']]\n",
        "train_03 = y_train[['Y_03']]\n",
        "train_04 = y_train[['Y_04']]\n",
        "train_05 = y_train[['Y_05']]\n",
        "train_06 = y_train[['Y_06']]\n",
        "train_07 = y_train[['Y_07']]\n",
        "train_08 = y_train[['Y_08']]\n",
        "train_09 = y_train[['Y_09']]\n",
        "train_10 = y_train[['Y_10']]\n",
        "train_11 = y_train[['Y_11']]\n",
        "train_12 = y_train[['Y_12']]\n",
        "train_13 = y_train[['Y_13']]\n",
        "train_14 = y_train[['Y_14']]"
      ],
      "metadata": {
        "id": "Gu8hpU5FMits"
      },
      "execution_count": 29,
      "outputs": []
    },
    {
      "cell_type": "code",
      "execution_count": 114,
      "metadata": {
        "colab": {
          "base_uri": "https://localhost:8080/"
        },
        "id": "yC1E-dwC5LRh",
        "outputId": "3fd787b8-b1b3-40c1-e65a-8f3e565ea8de"
      },
      "outputs": [
        {
          "output_type": "stream",
          "name": "stderr",
          "text": [
            "/usr/local/lib/python3.7/dist-packages/ipykernel_launcher.py:10: DataConversionWarning: A column-vector y was passed when a 1d array was expected. Please change the shape of y to (n_samples,), for example using ravel().\n",
            "  # Remove the CWD from sys.path while we load stuff.\n"
          ]
        },
        {
          "output_type": "execute_result",
          "data": {
            "text/plain": [
              "RandomForestRegressor(max_depth=30, random_state=2)"
            ]
          },
          "metadata": {},
          "execution_count": 114
        }
      ],
      "source": [
        "from sklearn.ensemble import RandomForestRegressor\n",
        "\n",
        "max_depth = 30\n",
        "regr_multirf = MultiOutputRegressor(\n",
        "    RandomForestRegressor(n_estimators=100, max_depth=max_depth, random_state=0)\n",
        ")\n",
        "regr_multirf.fit(X_train, train_14)\n",
        "\n",
        "regr_rf = RandomForestRegressor(n_estimators=100, max_depth=max_depth, random_state=2)\n",
        "regr_rf.fit(X_train, train_14)"
      ]
    },
    {
      "cell_type": "code",
      "source": [
        "X_test = pd.read_csv('/content/drive/MyDrive/open/data/test.csv').drop(columns=['ID'])"
      ],
      "metadata": {
        "id": "4zpMCLVt57q9"
      },
      "execution_count": 115,
      "outputs": []
    },
    {
      "cell_type": "code",
      "source": [
        "# Predict on new data\n",
        "y_multirf = regr_multirf.predict(X_test)\n",
        "y_rf = regr_rf.predict(X_test)"
      ],
      "metadata": {
        "id": "LtGcnrLz54o8"
      },
      "execution_count": 116,
      "outputs": []
    },
    {
      "cell_type": "code",
      "source": [
        "submit = pd.read_csv('/content/drive/MyDrive/open/data/sample_submission.csv')"
      ],
      "metadata": {
        "id": "VIhRg7xL6Rt0"
      },
      "execution_count": 117,
      "outputs": []
    },
    {
      "cell_type": "code",
      "source": [
        "for idx, col in enumerate(submit.columns):\n",
        "    if col=='ID':\n",
        "        continue\n",
        "    submit[col] = y_multirf[:]\n",
        "print('Done.')"
      ],
      "metadata": {
        "colab": {
          "base_uri": "https://localhost:8080/"
        },
        "id": "l6A2qaOd6IM1",
        "outputId": "4abfa475-99bd-49ac-f557-b02b0e9c8ea2"
      },
      "execution_count": 118,
      "outputs": [
        {
          "output_type": "stream",
          "name": "stdout",
          "text": [
            "Done.\n"
          ]
        }
      ]
    },
    {
      "cell_type": "code",
      "source": [
        "for idx, col in enumerate(submit.columns):\n",
        "    if col=='ID':\n",
        "        continue\n",
        "    submit[col] = y_rf[:]\n",
        "print('Done.')"
      ],
      "metadata": {
        "colab": {
          "base_uri": "https://localhost:8080/"
        },
        "id": "OcxMmwHQMFMp",
        "outputId": "e47a620d-fd2b-4590-909f-e46a79bf6514"
      },
      "execution_count": 119,
      "outputs": [
        {
          "output_type": "stream",
          "name": "stdout",
          "text": [
            "Done.\n"
          ]
        }
      ]
    },
    {
      "cell_type": "markdown",
      "source": [
        "아래는 원본 코드"
      ],
      "metadata": {
        "id": "MJgwwLlAOmjJ"
      }
    },
    {
      "cell_type": "code",
      "source": [
        "# 원본\n",
        "for idx, col in enumerate(submit.columns):\n",
        "    if col=='ID':\n",
        "        continue\n",
        "    submit[col] = y_rf[:,idx-1]\n",
        "print('Done.')"
      ],
      "metadata": {
        "id": "wOCBS9OfHA8u"
      },
      "execution_count": null,
      "outputs": []
    },
    {
      "cell_type": "code",
      "source": [
        "submit.to_csv('/content/drive/MyDrive/open/data/submit3.csv', index=False)"
      ],
      "metadata": {
        "id": "yvZthDDG6IK2"
      },
      "execution_count": 16,
      "outputs": []
    },
    {
      "cell_type": "code",
      "source": [
        "# y 14개, x 56개 전부 돌린 경우\n",
        "\n",
        "import matplotlib.pyplot as plt # 득점모델 변수 중요도\n",
        "import seaborn as sns\n",
        "%matplotlib inline\n",
        " \n",
        "ftr_importances_values = regr_rf.feature_importances_\n",
        "ftr_importances = pd.Series(ftr_importances_values, index=X_train.columns)\n",
        "ftr_top = ftr_importances.sort_values(ascending=False)[:25]\n",
        " \n",
        "plt.figure(figsize=(8, 6))\n",
        "sns.barplot(x=ftr_top, y=ftr_top.index)\n",
        "plt.show()"
      ],
      "metadata": {
        "colab": {
          "base_uri": "https://localhost:8080/",
          "height": 374
        },
        "id": "u0TeW7V86KCv",
        "outputId": "b650b5c0-8af3-49d5-c3cc-a97aa3fb07fb"
      },
      "execution_count": 23,
      "outputs": [
        {
          "output_type": "display_data",
          "data": {
            "text/plain": [
              "<Figure size 576x432 with 1 Axes>"
            ],
            "image/png": "[encoded data removed]"
          },
          "metadata": {
            "needs_background": "light"
          }
        }
      ]
    },
    {
      "cell_type": "code",
      "source": [
        "# y 1번 1개, x 56개 전부 돌린 경우\n",
        "# y = 안테나 gain평균 (각도1)\n",
        "# x = 방열재료 1면적, Cal 투입 전 대기 시간, 방열재료 3 면적, RM7 부분 SMT 납량\n",
        "# x = 방열재료 2면적,RM1 부분 SMT 납량, RM2 부분 SMT 납량, RM3 부분 SMT 납량, RM4 부분 SMT 납량\n",
        "import matplotlib.pyplot as plt # 득점모델 변수 중요도\n",
        "import seaborn as sns\n",
        "%matplotlib inline\n",
        " \n",
        "ftr_importances_values = regr_rf.feature_importances_\n",
        "ftr_importances = pd.Series(ftr_importances_values, index=X_train.columns)\n",
        "ftr_top = ftr_importances.sort_values(ascending=False)[:25]\n",
        " \n",
        "plt.figure(figsize=(8, 6))\n",
        "sns.barplot(x=ftr_top, y=ftr_top.index)\n",
        "plt.show()"
      ],
      "metadata": {
        "colab": {
          "base_uri": "https://localhost:8080/",
          "height": 374
        },
        "id": "TUD777kcPzev",
        "outputId": "2cc13017-f422-41ae-d29b-8a50f78cc8ab"
      },
      "execution_count": 26,
      "outputs": [
        {
          "output_type": "display_data",
          "data": {
            "text/plain": [
              "<Figure size 576x432 with 1 Axes>"
            ],
            "image/png": "[encoded data removed]"
          },
          "metadata": {
            "needs_background": "light"
          }
        }
      ]
    },
    {
      "cell_type": "code",
      "source": [
        "# y 2번 1개, x 56개 전부 돌린 경우\n",
        "\n",
        "import matplotlib.pyplot as plt # 득점모델 변수 중요도\n",
        "import seaborn as sns\n",
        "%matplotlib inline\n",
        " \n",
        "ftr_importances_values = regr_rf.feature_importances_\n",
        "ftr_importances = pd.Series(ftr_importances_values, index=X_train.columns)\n",
        "ftr_top = ftr_importances.sort_values(ascending=False)[:25]\n",
        " \n",
        "plt.figure(figsize=(8, 6))\n",
        "sns.barplot(x=ftr_top, y=ftr_top.index)\n",
        "plt.show()"
      ],
      "metadata": {
        "colab": {
          "base_uri": "https://localhost:8080/",
          "height": 374
        },
        "id": "GzhKGJTDPzc2",
        "outputId": "bc40f21d-b5d1-45ed-d88c-a9c16366ddee"
      },
      "execution_count": 36,
      "outputs": [
        {
          "output_type": "display_data",
          "data": {
            "text/plain": [
              "<Figure size 576x432 with 1 Axes>"
            ],
            "image/png": "[encoded data removed]"
          },
          "metadata": {
            "needs_background": "light"
          }
        }
      ]
    },
    {
      "cell_type": "code",
      "source": [
        "# y 3번 1개, x 56개 전부 돌린 경우\n",
        "\n",
        "import matplotlib.pyplot as plt # 득점모델 변수 중요도\n",
        "import seaborn as sns\n",
        "%matplotlib inline\n",
        " \n",
        "ftr_importances_values = regr_rf.feature_importances_\n",
        "ftr_importances = pd.Series(ftr_importances_values, index=X_train.columns)\n",
        "ftr_top = ftr_importances.sort_values(ascending=False)[:25]\n",
        " \n",
        "plt.figure(figsize=(8, 6))\n",
        "sns.barplot(x=ftr_top, y=ftr_top.index)\n",
        "plt.show()"
      ],
      "metadata": {
        "colab": {
          "base_uri": "https://localhost:8080/",
          "height": 374
        },
        "id": "84DjjbD_Pza8",
        "outputId": "ee28f8ea-6e0b-4040-f34d-2b1f34eab6d5"
      },
      "execution_count": 43,
      "outputs": [
        {
          "output_type": "display_data",
          "data": {
            "text/plain": [
              "<Figure size 576x432 with 1 Axes>"
            ],
            "image/png": "[encoded data removed]"
          },
          "metadata": {
            "needs_background": "light"
          }
        }
      ]
    },
    {
      "cell_type": "code",
      "source": [
        "# y 4번 1개, x 56개 전부 돌린 경우\n",
        "\n",
        "import matplotlib.pyplot as plt # 득점모델 변수 중요도\n",
        "import seaborn as sns\n",
        "%matplotlib inline\n",
        " \n",
        "ftr_importances_values = regr_rf.feature_importances_\n",
        "ftr_importances = pd.Series(ftr_importances_values, index=X_train.columns)\n",
        "ftr_top = ftr_importances.sort_values(ascending=False)[:25]\n",
        " \n",
        "plt.figure(figsize=(8, 6))\n",
        "sns.barplot(x=ftr_top, y=ftr_top.index)\n",
        "plt.show()"
      ],
      "metadata": {
        "colab": {
          "base_uri": "https://localhost:8080/",
          "height": 374
        },
        "id": "GAvQ0dPYPzZE",
        "outputId": "715a1d87-73cc-4441-b28e-a8365c624530"
      },
      "execution_count": 50,
      "outputs": [
        {
          "output_type": "display_data",
          "data": {
            "text/plain": [
              "<Figure size 576x432 with 1 Axes>"
            ],
            "image/png": "[encoded data removed]"
          },
          "metadata": {
            "needs_background": "light"
          }
        }
      ]
    },
    {
      "cell_type": "code",
      "source": [
        "# y 5번 1개, x 56개 전부 돌린 경우\n",
        "\n",
        "import matplotlib.pyplot as plt # 득점모델 변수 중요도\n",
        "import seaborn as sns\n",
        "%matplotlib inline\n",
        " \n",
        "ftr_importances_values = regr_rf.feature_importances_\n",
        "ftr_importances = pd.Series(ftr_importances_values, index=X_train.columns)\n",
        "ftr_top = ftr_importances.sort_values(ascending=False)[:25]\n",
        " \n",
        "plt.figure(figsize=(8, 6))\n",
        "sns.barplot(x=ftr_top, y=ftr_top.index)\n",
        "plt.show()"
      ],
      "metadata": {
        "colab": {
          "base_uri": "https://localhost:8080/",
          "height": 374
        },
        "id": "c31lurnPPzW7",
        "outputId": "8d223c6d-029e-4377-9fca-33933fcabb38"
      },
      "execution_count": 57,
      "outputs": [
        {
          "output_type": "display_data",
          "data": {
            "text/plain": [
              "<Figure size 576x432 with 1 Axes>"
            ],
            "image/png": "[encoded data removed]"
          },
          "metadata": {
            "needs_background": "light"
          }
        }
      ]
    },
    {
      "cell_type": "code",
      "source": [
        "# y 6번 1개, x 56개 전부 돌린 경우\n",
        "\n",
        "import matplotlib.pyplot as plt # 득점모델 변수 중요도\n",
        "import seaborn as sns\n",
        "%matplotlib inline\n",
        " \n",
        "ftr_importances_values = regr_rf.feature_importances_\n",
        "ftr_importances = pd.Series(ftr_importances_values, index=X_train.columns)\n",
        "ftr_top = ftr_importances.sort_values(ascending=False)[:25]\n",
        " \n",
        "plt.figure(figsize=(8, 6))\n",
        "sns.barplot(x=ftr_top, y=ftr_top.index)\n",
        "plt.show()"
      ],
      "metadata": {
        "colab": {
          "base_uri": "https://localhost:8080/",
          "height": 374
        },
        "id": "ecJ3-PzePzVS",
        "outputId": "d1d66eeb-d50f-4a0e-e349-842d51d04926"
      },
      "execution_count": 64,
      "outputs": [
        {
          "output_type": "display_data",
          "data": {
            "text/plain": [
              "<Figure size 576x432 with 1 Axes>"
            ],
            "image/png": "[encoded data removed]"
          },
          "metadata": {
            "needs_background": "light"
          }
        }
      ]
    },
    {
      "cell_type": "code",
      "source": [
        "# y 7번 1개, x 56개 전부 돌린 경우\n",
        "\n",
        "import matplotlib.pyplot as plt # 득점모델 변수 중요도\n",
        "import seaborn as sns\n",
        "%matplotlib inline\n",
        " \n",
        "ftr_importances_values = regr_rf.feature_importances_\n",
        "ftr_importances = pd.Series(ftr_importances_values, index=X_train.columns)\n",
        "ftr_top = ftr_importances.sort_values(ascending=False)[:25]\n",
        " \n",
        "plt.figure(figsize=(8, 6))\n",
        "sns.barplot(x=ftr_top, y=ftr_top.index)\n",
        "plt.show()"
      ],
      "metadata": {
        "colab": {
          "base_uri": "https://localhost:8080/",
          "height": 374
        },
        "id": "lre6Hl5hVEGU",
        "outputId": "5a5cd927-eb50-488e-990c-79a5ae1012e7"
      },
      "execution_count": 71,
      "outputs": [
        {
          "output_type": "display_data",
          "data": {
            "text/plain": [
              "<Figure size 576x432 with 1 Axes>"
            ],
            "image/png": "[encoded data removed]"
          },
          "metadata": {
            "needs_background": "light"
          }
        }
      ]
    },
    {
      "cell_type": "code",
      "source": [
        "# y 8번 1개, x 56개 전부 돌린 경우\n",
        "\n",
        "import matplotlib.pyplot as plt # 득점모델 변수 중요도\n",
        "import seaborn as sns\n",
        "%matplotlib inline\n",
        " \n",
        "ftr_importances_values = regr_rf.feature_importances_\n",
        "ftr_importances = pd.Series(ftr_importances_values, index=X_train.columns)\n",
        "ftr_top = ftr_importances.sort_values(ascending=False)[:25]\n",
        " \n",
        "plt.figure(figsize=(8, 6))\n",
        "sns.barplot(x=ftr_top, y=ftr_top.index)\n",
        "plt.show()"
      ],
      "metadata": {
        "colab": {
          "base_uri": "https://localhost:8080/",
          "height": 374
        },
        "id": "3ZBF_RYrVDel",
        "outputId": "f90f97eb-a964-431b-9ceb-7066163cf895"
      },
      "execution_count": 78,
      "outputs": [
        {
          "output_type": "display_data",
          "data": {
            "text/plain": [
              "<Figure size 576x432 with 1 Axes>"
            ],
            "image/png": "[encoded data removed]"
          },
          "metadata": {
            "needs_background": "light"
          }
        }
      ]
    },
    {
      "cell_type": "code",
      "source": [
        "# y 9번 1개, x 56개 전부 돌린 경우\n",
        "\n",
        "import matplotlib.pyplot as plt # 득점모델 변수 중요도\n",
        "import seaborn as sns\n",
        "%matplotlib inline\n",
        " \n",
        "ftr_importances_values = regr_rf.feature_importances_\n",
        "ftr_importances = pd.Series(ftr_importances_values, index=X_train.columns)\n",
        "ftr_top = ftr_importances.sort_values(ascending=False)[:25]\n",
        " \n",
        "plt.figure(figsize=(8, 6))\n",
        "sns.barplot(x=ftr_top, y=ftr_top.index)\n",
        "plt.show()"
      ],
      "metadata": {
        "colab": {
          "base_uri": "https://localhost:8080/",
          "height": 374
        },
        "id": "evXWL5fgVDQr",
        "outputId": "d605f766-ca49-471c-c01f-19b972296648"
      },
      "execution_count": 85,
      "outputs": [
        {
          "output_type": "display_data",
          "data": {
            "text/plain": [
              "<Figure size 576x432 with 1 Axes>"
            ],
            "image/png": "[encoded data removed]"
          },
          "metadata": {
            "needs_background": "light"
          }
        }
      ]
    },
    {
      "cell_type": "code",
      "source": [
        "# y 10번 1개, x 56개 전부 돌린 경우\n",
        "\n",
        "import matplotlib.pyplot as plt # 득점모델 변수 중요도\n",
        "import seaborn as sns\n",
        "%matplotlib inline\n",
        " \n",
        "ftr_importances_values = regr_rf.feature_importances_\n",
        "ftr_importances = pd.Series(ftr_importances_values, index=X_train.columns)\n",
        "ftr_top = ftr_importances.sort_values(ascending=False)[:25]\n",
        " \n",
        "plt.figure(figsize=(8, 6))\n",
        "sns.barplot(x=ftr_top, y=ftr_top.index)\n",
        "plt.show()"
      ],
      "metadata": {
        "colab": {
          "base_uri": "https://localhost:8080/",
          "height": 374
        },
        "id": "yu9r4ig1VDKr",
        "outputId": "056c7df1-be69-468c-846b-c3ff7f951aac"
      },
      "execution_count": 92,
      "outputs": [
        {
          "output_type": "display_data",
          "data": {
            "text/plain": [
              "<Figure size 576x432 with 1 Axes>"
            ],
            "image/png": "[encoded data removed]"
          },
          "metadata": {
            "needs_background": "light"
          }
        }
      ]
    },
    {
      "cell_type": "code",
      "source": [
        "# y 11번 1개, x 56개 전부 돌린 경우\n",
        "\n",
        "import matplotlib.pyplot as plt # 득점모델 변수 중요도\n",
        "import seaborn as sns\n",
        "%matplotlib inline\n",
        " \n",
        "ftr_importances_values = regr_rf.feature_importances_\n",
        "ftr_importances = pd.Series(ftr_importances_values, index=X_train.columns)\n",
        "ftr_top = ftr_importances.sort_values(ascending=False)[:25]\n",
        " \n",
        "plt.figure(figsize=(8, 6))\n",
        "sns.barplot(x=ftr_top, y=ftr_top.index)\n",
        "plt.show()"
      ],
      "metadata": {
        "colab": {
          "base_uri": "https://localhost:8080/",
          "height": 374
        },
        "id": "3B4qtjn5VDHj",
        "outputId": "bcc6e7d5-3264-4a6f-bf27-c56bf4adb01e"
      },
      "execution_count": 99,
      "outputs": [
        {
          "output_type": "display_data",
          "data": {
            "text/plain": [
              "<Figure size 576x432 with 1 Axes>"
            ],
            "image/png": "[encoded data removed]"
          },
          "metadata": {
            "needs_background": "light"
          }
        }
      ]
    },
    {
      "cell_type": "code",
      "source": [
        "# y 12번 1개, x 56개 전부 돌린 경우\n",
        "\n",
        "import matplotlib.pyplot as plt # 득점모델 변수 중요도\n",
        "import seaborn as sns\n",
        "%matplotlib inline\n",
        " \n",
        "ftr_importances_values = regr_rf.feature_importances_\n",
        "ftr_importances = pd.Series(ftr_importances_values, index=X_train.columns)\n",
        "ftr_top = ftr_importances.sort_values(ascending=False)[:25]\n",
        " \n",
        "plt.figure(figsize=(8, 6))\n",
        "sns.barplot(x=ftr_top, y=ftr_top.index)\n",
        "plt.show()"
      ],
      "metadata": {
        "colab": {
          "base_uri": "https://localhost:8080/",
          "height": 374
        },
        "id": "7mpkwLtaVDEU",
        "outputId": "feed0f76-bd58-4891-dce9-8477fecf2843"
      },
      "execution_count": 106,
      "outputs": [
        {
          "output_type": "display_data",
          "data": {
            "text/plain": [
              "<Figure size 576x432 with 1 Axes>"
            ],
            "image/png": "[encoded data removed]"
          },
          "metadata": {
            "needs_background": "light"
          }
        }
      ]
    },
    {
      "cell_type": "code",
      "source": [
        "# y 13번 1개, x 56개 전부 돌린 경우\n",
        "\n",
        "import matplotlib.pyplot as plt # 득점모델 변수 중요도\n",
        "import seaborn as sns\n",
        "%matplotlib inline\n",
        " \n",
        "ftr_importances_values = regr_rf.feature_importances_\n",
        "ftr_importances = pd.Series(ftr_importances_values, index=X_train.columns)\n",
        "ftr_top = ftr_importances.sort_values(ascending=False)[:25]\n",
        " \n",
        "plt.figure(figsize=(8, 6))\n",
        "sns.barplot(x=ftr_top, y=ftr_top.index)\n",
        "plt.show()"
      ],
      "metadata": {
        "colab": {
          "base_uri": "https://localhost:8080/",
          "height": 374
        },
        "id": "aiENpmmpVDAj",
        "outputId": "ff957467-a130-4c56-fd66-cecb7b1cf24f"
      },
      "execution_count": 113,
      "outputs": [
        {
          "output_type": "display_data",
          "data": {
            "text/plain": [
              "<Figure size 576x432 with 1 Axes>"
            ],
            "image/png": "[encoded data removed]"
          },
          "metadata": {
            "needs_background": "light"
          }
        }
      ]
    },
    {
      "cell_type": "code",
      "source": [
        "# y 14번 1개, x 56개 전부 돌린 경우\n",
        "\n",
        "import matplotlib.pyplot as plt # 득점모델 변수 중요도\n",
        "import seaborn as sns\n",
        "%matplotlib inline\n",
        " \n",
        "ftr_importances_values = regr_rf.feature_importances_\n",
        "ftr_importances = pd.Series(ftr_importances_values, index=X_train.columns)\n",
        "ftr_top = ftr_importances.sort_values(ascending=False)[:25]\n",
        " \n",
        "plt.figure(figsize=(8, 6))\n",
        "sns.barplot(x=ftr_top, y=ftr_top.index)\n",
        "plt.show()"
      ],
      "metadata": {
        "colab": {
          "base_uri": "https://localhost:8080/",
          "height": 374
        },
        "id": "uJCgiacmVC9B",
        "outputId": "7cbe3695-7b94-4e28-9377-d404d3857e2b"
      },
      "execution_count": 120,
      "outputs": [
        {
          "output_type": "display_data",
          "data": {
            "text/plain": [
              "<Figure size 576x432 with 1 Axes>"
            ],
            "image/png": "[encoded data removed]"
          },
          "metadata": {
            "needs_background": "light"
          }
        }
      ]
    },
    {
      "cell_type": "code",
      "source": [
        ""
      ],
      "metadata": {
        "id": "QMDbhY5VVC4q"
      },
      "execution_count": null,
      "outputs": []
    },
    {
      "cell_type": "code",
      "source": [
        ""
      ],
      "metadata": {
        "id": "Kk9s8q_pPzTL"
      },
      "execution_count": null,
      "outputs": []
    }
  ]
}