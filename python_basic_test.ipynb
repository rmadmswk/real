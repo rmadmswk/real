{
 "cells": [
  {
   "cell_type": "code",
   "execution_count": 1,
   "id": "69feae59",
   "metadata": {},
   "outputs": [
    {
     "data": {
      "text/plain": [
       "4550"
      ]
     },
     "execution_count": 1,
     "metadata": {},
     "output_type": "execute_result"
    }
   ],
   "source": [
    "# 1부터 100까지의 정수중 5에서 95까지의 합을 구하세요.\n",
    "a = 0\n",
    "for i in range(100):\n",
    "    if i >= 5 and i < 96:\n",
    "        a+=i\n",
    "a"
   ]
  },
  {
   "cell_type": "code",
   "execution_count": 2,
   "id": "3509908a",
   "metadata": {},
   "outputs": [
    {
     "data": {
      "text/plain": [
       "33165"
      ]
     },
     "execution_count": 2,
     "metadata": {},
     "output_type": "execute_result"
    }
   ],
   "source": [
    "# while문을 사용해 1부터 1000까지의 정수 중 3과 5의 공배수의 합을 구해 보세요.\n",
    "i = 0\n",
    "a = 0\n",
    "while i < 1000:\n",
    "    i += 1\n",
    "    if i % 15 ==0:\n",
    "        a += i\n",
    "a"
   ]
  },
  {
   "cell_type": "code",
   "execution_count": null,
   "id": "abd14546",
   "metadata": {},
   "outputs": [],
   "source": [
    "# 1부터 5까지 입력해서 12345를 출력하세요\n",
    "# 나중에 예외처리 가능\n",
    "# 숫자 입력하지 않는 경우, 특수문자 입력하는 경우 등등해서\n",
    "sum = \"\"\n",
    "a = input('숫자 입력:')\n",
    "b = input('숫자 입력:')\n",
    "c = input('숫자 입력:')\n",
    "d = input('숫자 입력:')\n",
    "e = input('숫자 입력:')\n",
    "sum = a+b+c+d+e\n",
    "sum"
   ]
  },
  {
   "cell_type": "code",
   "execution_count": 9,
   "id": "b9cc4113",
   "metadata": {},
   "outputs": [
    {
     "data": {
      "text/plain": [
       "[0, 1, 2, 3, 4, 5, 6, 7, 8, 'b', 'c']"
      ]
     },
     "execution_count": 9,
     "metadata": {},
     "output_type": "execute_result"
    }
   ],
   "source": [
    "# l1 = [0, 1, 2, 3, 4, 5, 6, 7, 8, 9, 'a', 'b', 'c']에서 9와 'a'를 삭제 후 리스트로 출력하세요\n",
    "l1 = [0, 1, 2, 3, 4, 5, 6, 7, 8, 9, 'a', 'b', 'c']\n",
    "del l1[-3]\n",
    "del l1[-3]\n",
    "l1"
   ]
  },
  {
   "cell_type": "code",
   "execution_count": 14,
   "id": "5604e9fa",
   "metadata": {},
   "outputs": [
    {
     "data": {
      "text/plain": [
       "[9, 9, 8, 8, 5, 4, 4, 4, 3, 1]"
      ]
     },
     "execution_count": 14,
     "metadata": {},
     "output_type": "execute_result"
    }
   ],
   "source": [
    "# l2 = [4, 8, 5, 4, 8, 4, 3, 9, 1, 9]를 내림차순으로 정렬하세요\n",
    "l2 = [4, 8, 5, 4, 8, 4, 3, 9, 1, 9]\n",
    "l2.sort(reverse=True)\n",
    "# a = sorted(l2, reverse = True)\n",
    "# a\n",
    "l2"
   ]
  },
  {
   "cell_type": "code",
   "execution_count": null,
   "id": "f69ef48b",
   "metadata": {},
   "outputs": [],
   "source": [
    "# format 함수를 이용해서 다음과 같은 형식으로 현재 날짜/시간을 출력하세요.\n",
    "# 2021년 12월 29일 15시 47분 30초"
   ]
  },
  {
   "cell_type": "code",
   "execution_count": null,
   "id": "a1a64671",
   "metadata": {},
   "outputs": [],
   "source": [
    "# 현재 시각을 오전과 오후로 구분하는 프로그램을 작성하세요."
   ]
  },
  {
   "cell_type": "code",
   "execution_count": null,
   "id": "8fc55d1a",
   "metadata": {},
   "outputs": [],
   "source": [
    "# 정수를 입력하면 홀수 짝수를 판별하는 프로그램 작성"
   ]
  },
  {
   "cell_type": "code",
   "execution_count": null,
   "id": "27d2aed1",
   "metadata": {},
   "outputs": [],
   "source": [
    "# 태어난 연도를 입력받아 띠를 출력하는 프로그램을 작성하세요.\n",
    "# 원숭이, 닭, 개, 돼지, 쥐, 소, 범, 토끼, 용, 뱀, 말, 양띠"
   ]
  },
  {
   "cell_type": "markdown",
   "id": "e42ec4b1",
   "metadata": {},
   "source": [
    "계절 구분 프로그램 \n",
    "\n",
    "각 계절별 출력 멘트는 계절에 맞게 창작\n",
    "\n",
    "if 조건문으로 datetime 모듈을 import해서 datetime.now 함수를 사용해서 작성"
   ]
  },
  {
   "cell_type": "code",
   "execution_count": null,
   "id": "a35571ba",
   "metadata": {},
   "outputs": [],
   "source": [
    "# 람다 함수를 이용해서 a의 b제곱을 구하는 식을 만들고\n",
    "# a, b가 아래와 같이 주어졌을 때 각각의 값을 구하세요. \n",
    "# a = 2, b = 5\n",
    "# a= 5, b = 2"
   ]
  },
  {
   "cell_type": "markdown",
   "id": "b299e7c0",
   "metadata": {},
   "source": [
    "커피 자판기 프로그램\n",
    "\n",
    "시나리오 : 자판기 커피 재고 5잔, 커피 1잔 가격 300원, 재고 범위내에서 300원 이상 돈을 넣으면 거스름돈과 \n",
    "\n",
    "커피를 주고 그렇지 않으면 반환하며 재고가 소진되면 안내멘트 출력\n",
    "\n",
    "각 Case별 멘트 출력은 상황에 맞게 창작\n",
    "\n",
    "while, if ~ elif ~ else 제어문을 사용하여 작성"
   ]
  },
  {
   "cell_type": "code",
   "execution_count": null,
   "id": "9c851ece",
   "metadata": {},
   "outputs": [],
   "source": [
    "# 1부터 100까지 아래와 같이 2개의 수를 곱해서 가장 큰 수를 구하세요."
   ]
  },
  {
   "cell_type": "code",
   "execution_count": null,
   "id": "8e776c18",
   "metadata": {},
   "outputs": [],
   "source": [
    "# [    ]을 채워서 아래의 출력과 같이 출력하세요.\n",
    "# 출력 :\n",
    "# [[1,4,7],[2,5,8],[3,6,9]]\n",
    "numbers = [1,2,3,4,5,6,7,8,9]\n",
    "output = [[], [], []]\n",
    "\n",
    "for number in numbers:\n",
    "    output[           ].append(number)\n",
    "print(output)"
   ]
  },
  {
   "cell_type": "code",
   "execution_count": null,
   "id": "49fa1933",
   "metadata": {},
   "outputs": [],
   "source": [
    "# 사용자가 입력한 게임 회수만큼 로또 번호를 출력하는 프로그램을 작성하세요."
   ]
  },
  {
   "cell_type": "code",
   "execution_count": null,
   "id": "636d9f56",
   "metadata": {},
   "outputs": [],
   "source": [
    "# 발표할 인원을 입력하면 랜덤으로 발표자를 리스트로 출력해 주는 프로그램을 작성하세요(중복 허용하지 않음)"
   ]
  },
  {
   "cell_type": "code",
   "execution_count": null,
   "id": "54def8e1",
   "metadata": {},
   "outputs": [],
   "source": [
    "# 남녀 파트너 정해주기 프로그램을 작성하세요(5개 커플)"
   ]
  },
  {
   "cell_type": "code",
   "execution_count": null,
   "id": "6c391d1e",
   "metadata": {},
   "outputs": [],
   "source": [
    "# 입력받은 문자열의 각 문자를 그 다음 문자로 변경하여 출력하세요.\n",
    "# 입력 abcde -> 출력 bcdea"
   ]
  },
  {
   "cell_type": "code",
   "execution_count": null,
   "id": "e67cd4ef",
   "metadata": {},
   "outputs": [],
   "source": [
    "# Player가 3승할 때까지 계속 진행되는 가위바위보 게임 프로그램을 작성하세요.\n",
    "# 게임을 Player와 컴퓨터가 진행"
   ]
  },
  {
   "cell_type": "code",
   "execution_count": null,
   "id": "3543639e",
   "metadata": {},
   "outputs": [],
   "source": [
    "# 컴퓨터가 랜덤하게 생성하는 숫자 맞추기 게임 프로그램을 작성하세요"
   ]
  },
  {
   "cell_type": "code",
   "execution_count": null,
   "id": "48fe18de",
   "metadata": {},
   "outputs": [],
   "source": []
  },
  {
   "cell_type": "code",
   "execution_count": null,
   "id": "dda86cd7",
   "metadata": {},
   "outputs": [],
   "source": []
  },
  {
   "cell_type": "code",
   "execution_count": null,
   "id": "7e9fd61b",
   "metadata": {},
   "outputs": [],
   "source": []
  },
  {
   "cell_type": "code",
   "execution_count": null,
   "id": "223485a1",
   "metadata": {},
   "outputs": [],
   "source": []
  }
 ],
 "metadata": {
  "kernelspec": {
   "display_name": "Python 3 (ipykernel)",
   "language": "python",
   "name": "python3"
  },
  "language_info": {
   "codemirror_mode": {
    "name": "ipython",
    "version": 3
   },
   "file_extension": ".py",
   "mimetype": "text/x-python",
   "name": "python",
   "nbconvert_exporter": "python",
   "pygments_lexer": "ipython3",
   "version": "3.8.12"
  }
 },
 "nbformat": 4,
 "nbformat_minor": 5
}
